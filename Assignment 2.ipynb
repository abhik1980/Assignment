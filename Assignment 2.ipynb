{
 "cells": [
  {
   "cell_type": "markdown",
   "metadata": {},
   "source": [
    "Task 1:\n",
    "1.1\n",
    "Write a Python Program to implement your own myreduce() function which works exactly like\n",
    "Python's built-in function reduce()"
   ]
  },
  {
   "cell_type": "code",
   "execution_count": 5,
   "metadata": {},
   "outputs": [
    {
     "name": "stdout",
     "output_type": "stream",
     "text": [
      "Give a list of elements10 20 30 40\n",
      "Input list [10, 20, 30, 40]\n",
      "The sum of the list elements 100 & the multiplication of the list elements 240000\n"
     ]
    }
   ],
   "source": [
    "# The below myreduce() take a list as i/p & perform two operation - multiplying list elements & adding list elements\n",
    "# like the reduce() in python\n",
    "\n",
    "def myreduce(s):\n",
    "    sum,mul=0,1\n",
    "    for i in s:  # performing sum & multiplication of list items same as reduce function\n",
    "        sum=sum+i\n",
    "        mul=mul*i\n",
    "    return print(\"The sum of the list elements %d & the multiplication of the list elements %d\"%(sum,mul))\n",
    "\n",
    "\n",
    "x=input(\"Give a list of elements\")\n",
    "a=x.split()\n",
    "input_list=list(map(int,a)) # converting list of strings to list of integer\n",
    "print(\"Input list\",input_list)\n",
    "myreduce(input_list)"
   ]
  },
  {
   "cell_type": "markdown",
   "metadata": {},
   "source": [
    "1.2\n",
    "Write a Python program to implement your own myfilter() function which works exactly like\n",
    "Python's built-in function filter()"
   ]
  },
  {
   "cell_type": "code",
   "execution_count": 22,
   "metadata": {},
   "outputs": [
    {
     "name": "stdout",
     "output_type": "stream",
     "text": [
      "Input List [1, 2, 3, 4, 5, 6, 7, 8, 9, 10, 11, 12, 13, 14, 15, 16, 17, 18, 19, 20]\n",
      "Output list of even numbers [2, 4, 6, 8, 10, 12, 14, 16, 18, 20]\n"
     ]
    }
   ],
   "source": [
    "def even(a):     # Function to calculate even number\n",
    "        if (a%2 == 0):\n",
    "            return True\n",
    "        else:\n",
    "            return False\n",
    "\n",
    "i_list=[i for i in range(1,21)] # input list from 1 to 20\n",
    "print(\"Input List\",i_list)\n",
    "o_list=[i for i in i_list if even(i)] # The Even() function is called  for the all the elements in input list & filtering the \n",
    "# even elements and put them in output list\n",
    "print(\"Output list of even numbers\",o_list)"
   ]
  },
  {
   "cell_type": "markdown",
   "metadata": {},
   "source": [
    "2.\n",
    "Implement List comprehensions to produce the following lists.\n",
    "Write List comprehensions to produce the following Lists\n",
    "['A', 'C', 'A', 'D', 'G', 'I', ’L’, ‘ D’]\n",
    "['x', 'xx', 'xxx', 'xxxx', 'y', 'yy', 'yyy', 'yyyy', 'z', 'zz', 'zzz', 'zzzz']\n",
    "['x', 'y', 'z', 'xx', 'yy', 'zz', 'xx', 'yy', 'zz', 'xxxx', 'yyyy', 'zzzz']\n",
    "[[2], [3], [4], [3], [4], [5], [4], [5], [6]]\n",
    "[[2, 3, 4, 5], [3, 4, 5, 6], [4, 5, 6, 7], [5, 6, 7, 8]]\n",
    "[(1, 1), (2, 1), (3, 1), (1, 2), (2, 2), (3, 2), (1, 3), (2, 3), (3, 3)]"
   ]
  },
  {
   "cell_type": "code",
   "execution_count": 53,
   "metadata": {},
   "outputs": [
    {
     "name": "stdout",
     "output_type": "stream",
     "text": [
      "ACADGILD =>  ['A', 'C', 'A', 'D', 'G', 'I', 'L', 'D']\n",
      "['x','y','z'] =>  ['x', 'xx', 'xxx', 'xxxx', 'y', 'yy', 'yyy', 'yyyy', 'z', 'zz', 'zzz', 'zzzz']\n",
      "['x','y','z'] =>  ['x', 'y', 'z', 'xx', 'yy', 'zz', 'xxx', 'yyy', 'zzz', 'xxxx', 'yyyy', 'zzzz']\n",
      "['2','3','4'] =>  [2, 3, 4, 3, 4, 5, 4, 5, 6]\n",
      "[2,3,4,5] => [[2, 3, 4, 5], [3, 4, 5, 6], [4, 5, 6, 7], [5, 6, 7, 8]]\n",
      "[(1,2)]=> [(1, 1), (2, 1), (3, 1), (1, 2), (2, 2), (3, 2), (1, 3), (2, 3), (3, 3)]\n"
     ]
    }
   ],
   "source": [
    "##### 1st list comprehension\n",
    "input_list1 = \"ACADGILD\"\n",
    "output_list1 = [ alphabet for alphabet in input_list1 ]\n",
    "print (\"ACADGILD => \" , output_list1)\n",
    "\n",
    "\n",
    "input_list2=['x','y','z']\n",
    "output_list2=[x*y for x in input_list2 for y in range(1,5)]\n",
    "print(\"['x','y','z'] => \" , output_list2)\n",
    "\n",
    "###### 3rd list comprehension\n",
    "input_list3=['x','y','z']\n",
    "output_list3=[x*y for x in range(1,5) for y in input_list3 ]\n",
    "print(\"['x','y','z'] => \" , output_list3)\n",
    "\n",
    "###### 4th list comprehension\n",
    "\n",
    "input_list4=[2,3,4]\n",
    "output_list4=[x+y for x in range(3) for y in input_list4 ]\n",
    "print(\"['2','3','4'] => \" , output_list4)\n",
    "\n",
    "\n",
    "\n",
    "input_list5=[2,3,4,5]\n",
    "output_list5=[[x+y for x in input_list5] for y in range(4)]\n",
    "print(\"[2,3,4,5] =>\",output_list5)\n",
    "\n",
    "###### 6th list comprehension\n",
    "input_list6=[1,2,3]\n",
    "outpit_list6=[(y,x) for x in input_list6 for y in input_list6]\n",
    "print(\"[(1,2)]=>\",outpit_list6)\n"
   ]
  },
  {
   "cell_type": "markdown",
   "metadata": {},
   "source": [
    "3. Implement a function longestWord() that takes a list of words and returns the longest one"
   ]
  },
  {
   "cell_type": "code",
   "execution_count": 52,
   "metadata": {},
   "outputs": [
    {
     "name": "stdout",
     "output_type": "stream",
     "text": [
      "Write a sentence, it wil return the longest word\n",
      "The longest words are all longest\n",
      "The longest words in the list are  : \n",
      "longest,longest\n",
      "\n"
     ]
    }
   ],
   "source": [
    "#Function to calculate longest word\n",
    "\n",
    "def longestWord(s):\n",
    "    longest=[]              # it will hold all the longest words\n",
    "    maxlength=0\n",
    "    for word in s.split(): # calculate the length of longest word\n",
    "        if (len(word)>=maxlength) :\n",
    "            maxlength=len(word)\n",
    "               \n",
    "    longest=[word for word in s.split() if len(word)==maxlength]  # put all the longest words in a  list \n",
    "    print(\"The longest words in the list are  : \")\n",
    "    print(*longest,sep=',')\n",
    "    print()\n",
    "    \n",
    "#Main Code to call the function longestWord() \n",
    "\n",
    "print(\"Write a sentence, it wil return the longest word\")\n",
    "x=input()\n",
    "longestWord(x)"
   ]
  },
  {
   "cell_type": "markdown",
   "metadata": {},
   "source": [
    "Task 2:\n",
    "1.1\n",
    "Write a Python Program(with class concepts) to find the area of the triangle using the below\n",
    "formula.\n",
    "area = (s*(s-a)*(s-b)*(s-c)) ** 0.5\n",
    "Function to take the length of the sides of triangle from user should be defined in the parent\n",
    "class and function to calculate the area should be defined in subclass"
   ]
  },
  {
   "cell_type": "code",
   "execution_count": 62,
   "metadata": {},
   "outputs": [
    {
     "name": "stdout",
     "output_type": "stream",
     "text": [
      "Child class initialized\n",
      "Parent class initialized\n",
      "Give length of side13\n",
      "Give length of side24\n",
      "Give length of side35\n",
      "Area of a trinagle is 6.00\n"
     ]
    }
   ],
   "source": [
    "class Triangle:\n",
    "    def __init__(self):\n",
    "        print(\"Parent class initialized\")\n",
    "        self.length1=float(input(\"Give length of side1\"))\n",
    "        self.length2=float(input(\"Give length of side2\"))\n",
    "        self.length3=float(input(\"Give length of side3\"))\n",
    "\n",
    "class Child(Triangle):\n",
    "    def __init__(self):\n",
    "        print(\"Child class initialized\")\n",
    "        super(Child,self).__init__()\n",
    "        \n",
    "    def area(self):\n",
    "        s=(self.length1+self.length2+self.length3)/2\n",
    "        return( (s*(s-self.length1)*(s-self.length2)*(s-self.length3)) ** 0.5)\n",
    "    \n",
    "triangle=Child()\n",
    "print(\"Area of a trinagle is %.2f\"%triangle.area())\n",
    "        \n",
    "    \n",
    "        \n",
    "    \n",
    "    "
   ]
  },
  {
   "cell_type": "markdown",
   "metadata": {},
   "source": [
    "1.2 Write a function filter_long_words() that takes a list of words and an integer n and returns \n",
    "the list of words that are longer than n."
   ]
  },
  {
   "cell_type": "code",
   "execution_count": 55,
   "metadata": {},
   "outputs": [
    {
     "name": "stdout",
     "output_type": "stream",
     "text": [
      "Write list of wordsAbhik id learning Data Science\n",
      "Give an interger4\n",
      "The words in list longer than  4 are - \n",
      "Abhik,learning,Science\n"
     ]
    }
   ],
   "source": [
    "#Function to calculate longer words, take a list word & a interger as inout\n",
    "\n",
    "def filter_long_words(s,n):\n",
    "    longest=[]\n",
    "    length=n\n",
    "               \n",
    "    longest=[word for word in s.split() if len(word)>length]\n",
    "    print(\"The words in list longer than \",n, \"are - \")\n",
    "    print(*longest,sep=',')\n",
    "\n",
    "#Main Code to call the function \n",
    "x=input(\"Write list of words\")\n",
    "k=int(input(\"Give an interger\"))\n",
    "\n",
    "filter_long_words(x,k)"
   ]
  },
  {
   "cell_type": "markdown",
   "metadata": {},
   "source": [
    "2.1 Write a Python program using function concept that maps list of words into a list of integers representing the\n",
    "lengths of the corresponding words . Hint: If a list [ ab,cde,erty] is passed on to the python function output should \n",
    "come as [2,3,4] Here 2,3 and 4 are the lengths of the words in the list."
   ]
  },
  {
   "cell_type": "code",
   "execution_count": 56,
   "metadata": {},
   "outputs": [
    {
     "name": "stdout",
     "output_type": "stream",
     "text": [
      "Write Few words - you will get list of their length\n",
      "ML Course in Ineuron is Great\n",
      "[2, 6, 2, 7, 2, 5]\n"
     ]
    }
   ],
   "source": [
    "def maplength(inputlist):\n",
    "    outputlist=[]\n",
    "    outputlist=[len(x) for x in inputlist.split()]\n",
    "    return outputlist\n",
    "\n",
    "print(\"Write Few words - you will get list of their length\")\n",
    "z=input()\n",
    "print(maplength(z))"
   ]
  },
  {
   "cell_type": "markdown",
   "metadata": {},
   "source": [
    "2.2\n",
    "Write a Python function which takes a character (i.e. a string of length 1) and returns True if it is\n",
    "a vowel, False otherwise.\n"
   ]
  },
  {
   "cell_type": "code",
   "execution_count": 58,
   "metadata": {},
   "outputs": [
    {
     "name": "stdout",
     "output_type": "stream",
     "text": [
      "Give a single character\n",
      "A\n",
      "It's a vowel\n"
     ]
    }
   ],
   "source": [
    "def isvowel(s):\n",
    "    if len(s) > 1 :\n",
    "        print(\"Please! Give a single character only\")\n",
    "        return\n",
    "    else:\n",
    "         if x.isalpha():\n",
    "                if (x=='a' or x=='A' or x=='e' or x=='E' or x=='i' or x=='I' or x=='o' or x=='O' or x=='u' or x=='U'):\n",
    "                    print(\"It's a vowel\")\n",
    "                    return\n",
    "                else:\n",
    "                    print(\"It's not a vowel\")\n",
    "                    return\n",
    "         else:\n",
    "            print(\"These are not alphabet, please correct!\")\n",
    "            return \n",
    "            \n",
    "# Driver Code\n",
    "print(\"Give a single character\")\n",
    "x=input()\n",
    "isvowel(x)\n",
    "    \n"
   ]
  },
  {
   "cell_type": "code",
   "execution_count": null,
   "metadata": {},
   "outputs": [],
   "source": []
  }
 ],
 "metadata": {
  "kernelspec": {
   "display_name": "Python 3",
   "language": "python",
   "name": "python3"
  },
  "language_info": {
   "codemirror_mode": {
    "name": "ipython",
    "version": 3
   },
   "file_extension": ".py",
   "mimetype": "text/x-python",
   "name": "python",
   "nbconvert_exporter": "python",
   "pygments_lexer": "ipython3",
   "version": "3.7.4"
  }
 },
 "nbformat": 4,
 "nbformat_minor": 2
}
